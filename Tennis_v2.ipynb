{
 "cells": [
  {
   "cell_type": "markdown",
   "metadata": {},
   "source": [
    "# Collaboration and Competition\n",
    "\n",
    "---\n",
    "\n",
    "You are welcome to use this coding environment to train your agent for the project.  Follow the instructions below to get started!\n",
    "\n",
    "### 1. Start the Environment\n",
    "\n",
    "Run the next code cell to install a few packages.  This line will take a few minutes to run!"
   ]
  },
  {
   "cell_type": "code",
   "execution_count": 1,
   "metadata": {},
   "outputs": [
    {
     "name": "stdout",
     "output_type": "stream",
     "text": [
      "\u001b[31mtensorflow 1.7.1 has requirement numpy>=1.13.3, but you'll have numpy 1.12.1 which is incompatible.\u001b[0m\r\n",
      "\u001b[31mipython 6.5.0 has requirement prompt-toolkit<2.0.0,>=1.0.15, but you'll have prompt-toolkit 3.0.20 which is incompatible.\u001b[0m\r\n"
     ]
    }
   ],
   "source": [
    "!pip -q install ./python"
   ]
  },
  {
   "cell_type": "code",
   "execution_count": 2,
   "metadata": {},
   "outputs": [],
   "source": [
    "# for the long running session...\n",
    "from workspace_utils import active_session"
   ]
  },
  {
   "cell_type": "markdown",
   "metadata": {},
   "source": [
    "The environment is already saved in the Workspace and can be accessed at the file path provided below. "
   ]
  },
  {
   "cell_type": "code",
   "execution_count": 3,
   "metadata": {},
   "outputs": [
    {
     "name": "stderr",
     "output_type": "stream",
     "text": [
      "INFO:unityagents:\n",
      "'Academy' started successfully!\n",
      "Unity Academy name: Academy\n",
      "        Number of Brains: 1\n",
      "        Number of External Brains : 1\n",
      "        Lesson number : 0\n",
      "        Reset Parameters :\n",
      "\t\t\n",
      "Unity brain name: TennisBrain\n",
      "        Number of Visual Observations (per agent): 0\n",
      "        Vector Observation space type: continuous\n",
      "        Vector Observation space size (per agent): 8\n",
      "        Number of stacked Vector Observation: 3\n",
      "        Vector Action space type: continuous\n",
      "        Vector Action space size (per agent): 2\n",
      "        Vector Action descriptions: , \n"
     ]
    }
   ],
   "source": [
    "from unityagents import UnityEnvironment\n",
    "import numpy as np\n",
    "\n",
    "env = UnityEnvironment(file_name=\"/data/Tennis_Linux_NoVis/Tennis\")"
   ]
  },
  {
   "cell_type": "markdown",
   "metadata": {},
   "source": [
    "Environments contain **_brains_** which are responsible for deciding the actions of their associated agents. Here we check for the first brain available, and set it as the default brain we will be controlling from Python."
   ]
  },
  {
   "cell_type": "code",
   "execution_count": 4,
   "metadata": {},
   "outputs": [
    {
     "name": "stdout",
     "output_type": "stream",
     "text": [
      "brain_name: TennisBrain\n",
      "brain: Unity brain name: TennisBrain\n",
      "        Number of Visual Observations (per agent): 0\n",
      "        Vector Observation space type: continuous\n",
      "        Vector Observation space size (per agent): 8\n",
      "        Number of stacked Vector Observation: 3\n",
      "        Vector Action space type: continuous\n",
      "        Vector Action space size (per agent): 2\n",
      "        Vector Action descriptions: , \n"
     ]
    }
   ],
   "source": [
    "# get the default brain\n",
    "brain_name = env.brain_names[0]\n",
    "brain = env.brains[brain_name]\n",
    "print(f'brain_name: {brain_name}')\n",
    "print(f'brain: {brain}')"
   ]
  },
  {
   "cell_type": "markdown",
   "metadata": {},
   "source": [
    "### 2. Examine the State and Action Spaces\n",
    "\n",
    "Run the code cell below to print some information about the environment."
   ]
  },
  {
   "cell_type": "code",
   "execution_count": 5,
   "metadata": {},
   "outputs": [
    {
     "name": "stdout",
     "output_type": "stream",
     "text": [
      "Number of agents: 2\n",
      "Size of each action: 2\n",
      "There are 2 agents. Each observes a state with length: 24\n"
     ]
    }
   ],
   "source": [
    "# reset the environment\n",
    "env_info = env.reset(train_mode=True)[brain_name]\n",
    "\n",
    "# number of agents \n",
    "num_agents = len(env_info.agents)\n",
    "print('Number of agents:', num_agents)\n",
    "\n",
    "# size of each action\n",
    "action_size = brain.vector_action_space_size\n",
    "print('Size of each action:', action_size)\n",
    "\n",
    "# examine the state space \n",
    "states = env_info.vector_observations\n",
    "state_size = states.shape[1]\n",
    "print('There are {} agents. Each observes a state with length: {}'.format(states.shape[0], state_size))"
   ]
  },
  {
   "cell_type": "code",
   "execution_count": 6,
   "metadata": {},
   "outputs": [
    {
     "name": "stdout",
     "output_type": "stream",
     "text": [
      "The state for the first agent looks like:\n",
      " [ 0.          0.          0.          0.          0.          0.          0.\n",
      "  0.          0.          0.          0.          0.          0.          0.\n",
      "  0.          0.         -6.65278625 -1.5        -0.          0.\n",
      "  6.83172083  6.         -0.          0.        ]\n"
     ]
    }
   ],
   "source": [
    "print('The state for the first agent looks like:\\n', states[0])"
   ]
  },
  {
   "cell_type": "code",
   "execution_count": 7,
   "metadata": {},
   "outputs": [
    {
     "name": "stdout",
     "output_type": "stream",
     "text": [
      "The state for the second agent looks like:\n",
      " [ 0.          0.          0.          0.          0.          0.          0.\n",
      "  0.          0.          0.          0.          0.          0.          0.\n",
      "  0.          0.         -6.4669857  -1.5         0.          0.\n",
      " -6.83172083  6.          0.          0.        ]\n"
     ]
    }
   ],
   "source": [
    "print('The state for the second agent looks like:\\n', states[1])"
   ]
  },
  {
   "cell_type": "markdown",
   "metadata": {},
   "source": [
    "### 3. Take Random Actions in the Environment\n",
    "\n",
    "In the next code cell, you will learn how to use the Python API to control the agent and receive feedback from the environment.\n",
    "\n",
    "Note that **in this coding environment, you will not be able to watch the agents while they are training**, and you should set `train_mode=True` to restart the environment."
   ]
  },
  {
   "cell_type": "code",
   "execution_count": 8,
   "metadata": {
    "scrolled": false
   },
   "outputs": [
    {
     "name": "stdout",
     "output_type": "stream",
     "text": [
      "run:0, len(actions): 2\n",
      "run:0, len(actions): 2\n",
      "run:0, len(actions): 2\n",
      "run:0, len(actions): 2\n",
      "run:0, len(actions): 2\n",
      "run:0, len(actions): 2\n",
      "run:0, len(actions): 2\n",
      "run:0, len(actions): 2\n",
      "run:0, len(actions): 2\n",
      "run:0, len(actions): 2\n",
      "run:0, len(actions): 2\n",
      "run:0, len(actions): 2\n",
      "run:0, len(actions): 2\n",
      "run:0, len(actions): 2\n",
      "run:0, rewards earned: [0.0, -0.009999999776482582]\n",
      "run:0, scores earned: [ 0.   -0.01]\n",
      "Total score (taking the maximum from either agents) this episode: 0.0\n"
     ]
    }
   ],
   "source": [
    "random_action_run = True\n",
    "verbose = True\n",
    "num_runs = 1\n",
    "\n",
    "if random_action_run:\n",
    "    for i in range(num_runs):                                  # play game for num_runs episodes\n",
    "        env_info = env.reset(train_mode=False)[brain_name]     # reset the environment    \n",
    "        states = env_info.vector_observations                  # get the current state (for each agent)\n",
    "        scores = np.zeros(num_agents)                          # initialize the score (for each agent)\n",
    "        while True:\n",
    "            actions = np.random.randn(num_agents, action_size) # select an action (for each agent)\n",
    "            actions = np.clip(actions, -1, 1)                  # all actions between -1 and 1\n",
    "            \n",
    "            if verbose:\n",
    "                print(f'run:{i}, len(actions): {len(actions)}')\n",
    "                \n",
    "            \n",
    "            env_info = env.step(actions)[brain_name]           # send all actions to the environment\n",
    "            next_states = env_info.vector_observations         # get next state (for each agent)\n",
    "            rewards = env_info.rewards                         # get reward (for each agent)\n",
    "            \n",
    "            if verbose & ~np.all(rewards == np.array([0.0, 0.0])):\n",
    "                print(f'run:{i}, rewards earned: {rewards}')\n",
    "            \n",
    "            dones = env_info.local_done                        # see if episode finished\n",
    "            scores += env_info.rewards                         # update the score (for each agent)\n",
    "            \n",
    "            if verbose & ~np.all(scores == np.array([0.0, 0.0])):\n",
    "                print(f'run:{i}, scores earned: {scores}')\n",
    "            \n",
    "            states = next_states                               # roll over states to next time step\n",
    "            \n",
    "            if np.any(dones):                                  # exit loop if episode finished\n",
    "                break\n",
    "        \n",
    "        print('Total score (taking the maximum from either agents) this episode: {}'.format(np.max(scores)))"
   ]
  },
  {
   "cell_type": "code",
   "execution_count": 9,
   "metadata": {},
   "outputs": [
    {
     "name": "stdout",
     "output_type": "stream",
     "text": [
      "[[ 0.39060515  1.        ]\n",
      " [-0.37844167  1.        ]]\n"
     ]
    }
   ],
   "source": [
    "# Number of agents: 2\n",
    "# Size of each action: 2\n",
    "if random_action_run:\n",
    "    print(actions)"
   ]
  },
  {
   "cell_type": "code",
   "execution_count": 10,
   "metadata": {},
   "outputs": [
    {
     "name": "stdout",
     "output_type": "stream",
     "text": [
      "[[ 0.          0.          0.          0.          0.          0.          0.\n",
      "   0.          0.          0.          0.          0.          0.          0.\n",
      "   0.          0.         -7.43639946 -1.5        -0.          0.\n",
      "   6.69487906  5.99607611 -0.          0.        ]\n",
      " [ 0.          0.          0.          0.          0.          0.          0.\n",
      "   0.          0.          0.          0.          0.          0.          0.\n",
      "   0.          0.         -7.73019552 -1.5         0.          0.\n",
      "  -6.69487906  5.99607611  0.          0.        ]]\n"
     ]
    }
   ],
   "source": [
    "# Number of agents: 2\n",
    "if random_action_run:\n",
    "    print(states)"
   ]
  },
  {
   "cell_type": "markdown",
   "metadata": {},
   "source": [
    "### 4. It's Your Turn!\n",
    "\n",
    "Now it's your turn to train your own agent to solve the environment!  A few **important notes**:\n",
    "- When training the environment, set `train_mode=True`, so that the line for resetting the environment looks like the following:\n",
    "```python\n",
    "env_info = env.reset(train_mode=True)[brain_name]\n",
    "```\n",
    "- To structure your work, you're welcome to work directly in this Jupyter notebook, or you might like to start over with a new file!  You can see the list of files in the workspace by clicking on **_Jupyter_** in the top left corner of the notebook.\n",
    "- In this coding environment, you will not be able to watch the agents while they are training.  However, **_after training the agents_**, you can download the saved model weights to watch the agents on your own machine! "
   ]
  },
  {
   "cell_type": "markdown",
   "metadata": {},
   "source": [
    "### DDPG agent"
   ]
  },
  {
   "cell_type": "code",
   "execution_count": 11,
   "metadata": {},
   "outputs": [],
   "source": [
    "import torch\n",
    "from collections import deque\n",
    "import matplotlib.pyplot as plt\n",
    "%matplotlib inline\n",
    "\n",
    "from ddpg_agent_v2 import Agent, GAMMA"
   ]
  },
  {
   "cell_type": "code",
   "execution_count": 12,
   "metadata": {},
   "outputs": [
    {
     "data": {
      "text/plain": [
       "0.99"
      ]
     },
     "execution_count": 12,
     "metadata": {},
     "output_type": "execute_result"
    }
   ],
   "source": [
    "GAMMA"
   ]
  },
  {
   "cell_type": "code",
   "execution_count": 13,
   "metadata": {},
   "outputs": [
    {
     "data": {
      "text/plain": [
       "<ddpg_agent_v2.Agent at 0x7fc5ab244048>"
      ]
     },
     "execution_count": 13,
     "metadata": {},
     "output_type": "execute_result"
    }
   ],
   "source": [
    "agent_testing = Agent(state_size=state_size, action_size=action_size, num_agents=num_agents, random_seed=1)\n",
    "agent_testing.reset()\n",
    "agent_testing"
   ]
  },
  {
   "cell_type": "code",
   "execution_count": 14,
   "metadata": {},
   "outputs": [
    {
     "name": "stdout",
     "output_type": "stream",
     "text": [
      "agent.state_size: 24\n",
      "agent.action_size: 2\n",
      "agent.seed: None\n",
      "agent.actor_local: Actor(\n",
      "  (fc1): Linear(in_features=24, out_features=400, bias=True)\n",
      "  (bn1): BatchNorm1d(400, eps=1e-05, momentum=0.1, affine=True, track_running_stats=True)\n",
      "  (fc2): Linear(in_features=400, out_features=300, bias=True)\n",
      "  (bn2): BatchNorm1d(300, eps=1e-05, momentum=0.1, affine=True, track_running_stats=True)\n",
      "  (fc3): Linear(in_features=300, out_features=2, bias=True)\n",
      ")\n",
      "agent.actor_target: Actor(\n",
      "  (fc1): Linear(in_features=24, out_features=400, bias=True)\n",
      "  (bn1): BatchNorm1d(400, eps=1e-05, momentum=0.1, affine=True, track_running_stats=True)\n",
      "  (fc2): Linear(in_features=400, out_features=300, bias=True)\n",
      "  (bn2): BatchNorm1d(300, eps=1e-05, momentum=0.1, affine=True, track_running_stats=True)\n",
      "  (fc3): Linear(in_features=300, out_features=2, bias=True)\n",
      ")\n",
      "agent.critic_local: Critic(\n",
      "  (fcs1): Linear(in_features=24, out_features=400, bias=True)\n",
      "  (bn1): BatchNorm1d(400, eps=1e-05, momentum=0.1, affine=True, track_running_stats=True)\n",
      "  (fc2): Linear(in_features=402, out_features=300, bias=True)\n",
      "  (bn2): BatchNorm1d(300, eps=1e-05, momentum=0.1, affine=True, track_running_stats=True)\n",
      "  (dropout): Dropout(p=0.3)\n",
      "  (fc3): Linear(in_features=300, out_features=1, bias=True)\n",
      ")\n",
      "agent.critic_target: Critic(\n",
      "  (fcs1): Linear(in_features=24, out_features=400, bias=True)\n",
      "  (bn1): BatchNorm1d(400, eps=1e-05, momentum=0.1, affine=True, track_running_stats=True)\n",
      "  (fc2): Linear(in_features=402, out_features=300, bias=True)\n",
      "  (bn2): BatchNorm1d(300, eps=1e-05, momentum=0.1, affine=True, track_running_stats=True)\n",
      "  (dropout): Dropout(p=0.3)\n",
      "  (fc3): Linear(in_features=300, out_features=1, bias=True)\n",
      ")\n",
      "agent.actor_optimizer: Adam (\n",
      "Parameter Group 0\n",
      "    amsgrad: False\n",
      "    betas: (0.9, 0.999)\n",
      "    eps: 1e-08\n",
      "    lr: 0.0001\n",
      "    weight_decay: 0\n",
      ")\n",
      "agent.critic_optimizer: Adam (\n",
      "Parameter Group 0\n",
      "    amsgrad: False\n",
      "    betas: (0.9, 0.999)\n",
      "    eps: 1e-08\n",
      "    lr: 0.001\n",
      "    weight_decay: 0\n",
      ")\n"
     ]
    }
   ],
   "source": [
    "#examine the agent\n",
    "print(f'agent.state_size: {agent_testing.state_size}')\n",
    "print(f'agent.action_size: {agent_testing.action_size}')\n",
    "print(f'agent.seed: {agent_testing.seed}')\n",
    "print(f'agent.actor_local: {agent_testing.actor_local}')\n",
    "print(f'agent.actor_target: {agent_testing.actor_target}')\n",
    "print(f'agent.critic_local: {agent_testing.critic_local}')\n",
    "print(f'agent.critic_target: {agent_testing.critic_target}')\n",
    "print(f'agent.actor_optimizer: {agent_testing.actor_optimizer}')\n",
    "print(f'agent.critic_optimizer: {agent_testing.critic_optimizer}')"
   ]
  },
  {
   "cell_type": "code",
   "execution_count": 15,
   "metadata": {},
   "outputs": [
    {
     "name": "stdout",
     "output_type": "stream",
     "text": [
      "Timestep 13\tScore: -0.00"
     ]
    }
   ],
   "source": [
    "# testing\n",
    "env_info = env.reset(train_mode=True)[brain_name]       # reset environment\n",
    "states = env_info.vector_observations                   # get current state for each agent      \n",
    "scores = np.zeros(num_agents)                           # initialize score for each agent\n",
    "agent_testing.reset()\n",
    "max_t = 1000\n",
    "\n",
    "for t in range(max_t):\n",
    "    actions = agent_testing.act(states, add_noise=True)         # select an action\n",
    "    env_info = env.step(actions)[brain_name]            # send all actions to the environment\n",
    "    next_states = env_info.vector_observations          # get next state (for each agent)\n",
    "    rewards = env_info.rewards                          # get reward (for each agent)\n",
    "    dones = env_info.local_done                         # see if episode finished\n",
    "    \n",
    "    if ~np.all(rewards == np.array([0.0, 0.0])):\n",
    "        agent_testing.step(states, actions, rewards, next_states, dones)\n",
    "\n",
    "    scores += env_info.rewards                          # update the score (for each agent)\n",
    "    states = next_states                                # roll over states to next time step\n",
    "    \n",
    "    if t % 1 == 0:\n",
    "        print('\\rTimestep {}\\tScore: {:.2f}'.format(t, np.mean(scores)), end=\"\")\n",
    "\n",
    "    if np.any(dones):                                   \n",
    "        break"
   ]
  },
  {
   "cell_type": "code",
   "execution_count": 16,
   "metadata": {
    "scrolled": true
   },
   "outputs": [
    {
     "data": {
      "text/plain": [
       "2"
      ]
     },
     "execution_count": 16,
     "metadata": {},
     "output_type": "execute_result"
    }
   ],
   "source": [
    "# testing\n",
    "len(agent_testing.memory)"
   ]
  },
  {
   "cell_type": "code",
   "execution_count": 17,
   "metadata": {
    "scrolled": false
   },
   "outputs": [
    {
     "data": {
      "text/plain": [
       "Experience(state=array([ -1.08997898e+01,  -1.85216200e+00,  -9.53674316e-06,\n",
       "         0.00000000e+00,   6.69487906e+00,  -2.65006781e-01,\n",
       "        -9.53674316e-06,   0.00000000e+00,  -1.07646160e+01,\n",
       "        -1.85216200e+00,   1.35176134e+00,   0.00000000e+00,\n",
       "         6.69487906e+00,  -1.18462682e+00,   1.35176134e+00,\n",
       "         0.00000000e+00,  -1.09011545e+01,  -1.85216200e+00,\n",
       "        -0.00000000e+00,   0.00000000e+00,   6.69487906e+00,\n",
       "        -2.10424662e+00,  -0.00000000e+00,   0.00000000e+00]), action=array([-0.04874446, -0.16750646], dtype=float32), reward=0.0, next_state=array([ 0.        ,  0.        ,  0.        ,  0.        ,  0.        ,\n",
       "        0.        ,  0.        ,  0.        ,  0.        ,  0.        ,\n",
       "        0.        ,  0.        ,  0.        ,  0.        ,  0.        ,\n",
       "        0.        , -6.59263992, -1.5       , -0.        ,  0.        ,\n",
       "        6.55063343,  6.        , -0.        ,  0.        ]), done=True)"
      ]
     },
     "execution_count": 17,
     "metadata": {},
     "output_type": "execute_result"
    }
   ],
   "source": [
    "#testing\n",
    "agent_testing.memory.memory[0]"
   ]
  },
  {
   "cell_type": "code",
   "execution_count": 18,
   "metadata": {},
   "outputs": [
    {
     "data": {
      "text/plain": [
       "[True, True]"
      ]
     },
     "execution_count": 18,
     "metadata": {},
     "output_type": "execute_result"
    }
   ],
   "source": [
    "# testing\n",
    "dones"
   ]
  },
  {
   "cell_type": "code",
   "execution_count": 19,
   "metadata": {},
   "outputs": [
    {
     "data": {
      "text/plain": [
       "[0.0, -0.009999999776482582]"
      ]
     },
     "execution_count": 19,
     "metadata": {},
     "output_type": "execute_result"
    }
   ],
   "source": [
    "# testing\n",
    "rewards"
   ]
  },
  {
   "cell_type": "code",
   "execution_count": 20,
   "metadata": {},
   "outputs": [],
   "source": [
    "BATCH_SIZE = 256  # Required number of positive experiences \n",
    "\n",
    "def ddpg(agent, \n",
    "         n_episodes=10000, \n",
    "         max_t=1000, \n",
    "         print_every=100, \n",
    "         pos_exp_threshold=1e-3, \n",
    "         neg_exp_threshold=-1e-3):\n",
    "    \n",
    "    current_max_score = -np.inf  # it's good to track if the model hits the new record as being trained\n",
    "    scores_raw = []\n",
    "    scores_max = []\n",
    "    scores_window = deque(maxlen=100)\n",
    "    mean_scores_window = []\n",
    "    pos_experience_count = 0  # until we have the required number (BATCH_SIZE) of positive experience, we wait\n",
    "    \n",
    "    # For each episode, reset the env and do...\n",
    "    for i_episode in range(1, n_episodes+1):\n",
    "        env_info = env.reset(train_mode=True)[brain_name]      # reset the environment    \n",
    "        states = env_info.vector_observations                  # get the current state (for each agent)\n",
    "        scores = np.zeros(num_agents)                          # initialize the score (for each agent)\n",
    "        agent.reset()\n",
    "\n",
    "        exp_collection = [] # Experience collection for this specific episode. Hold off the learning yet\n",
    "        \n",
    "        for t in range(max_t):\n",
    "            \n",
    "            # Select an action (for each agent)\n",
    "            if pos_experience_count > BATCH_SIZE:\n",
    "                actions = agent.act(states, add_noise=True)          # select an action\n",
    "                actions = np.clip(actions, -1, 1)                    # all actions between -1 and 1\n",
    "            else:\n",
    "                actions = np.random.randn(num_agents, action_size)   # select a random action\n",
    "                actions = np.clip(actions, -1, 1)                    # all actions between -1 and 1            \n",
    "            \n",
    "            env_info = env.step(actions)[brain_name]           # send all actions to tne environment\n",
    "            next_states = env_info.vector_observations         # get next state (for each agent)\n",
    "            rewards = env_info.rewards                         # get reward (for each agent)\n",
    "            dones = env_info.local_done                        # see if episode finished\n",
    "            \n",
    "            exp_collection.append((states, actions, rewards, next_states, dones))\n",
    "            scores += rewards                                  # update the score (for each agent)\n",
    "            states = next_states                               # roll over states to next time step\n",
    "            if np.any(dones):                                  # exit loop if episode finished\n",
    "                break\n",
    "            \n",
    "        # Learn from the Experience collection\n",
    "        for i, score in enumerate(scores):\n",
    "            if score > pos_exp_threshold:   \n",
    "                pos_experience_count += 1\n",
    "                for experience in exp_collection:\n",
    "                    states, actions, rewards, next_states, dones = experience\n",
    "                    agent.memory.add(states[i], actions[i], score, next_states[i], dones[i])\n",
    "            \n",
    "            elif score < neg_exp_threshold: \n",
    "                for experience in exp_collection:\n",
    "                    states, actions, rewards, next_states, dones = experience\n",
    "                    agent.memory.add(states[i], actions[i], score, next_states[i], dones[i])\n",
    "\n",
    "            # Learn, if enough samples are available in memory\n",
    "            if len(agent.memory) > BATCH_SIZE:\n",
    "                experiences = agent.memory.sample()\n",
    "                agent.learn(experiences, GAMMA)\n",
    "\n",
    "        scores_raw.append(scores)                                   # append this episode's scores\n",
    "        scores_max.append(np.max(scores))                           # append max(this episode's scores). This will keep all the max(scores)\n",
    "        scores_window.append(np.max(scores))                         # append max(this episode's scores). This will keep the last 100 max(scores)\n",
    "        mean_scores_window.append(np.mean(scores_window))            # append the deque average (over 100 episodes)\n",
    "        current_max_score = max(np.max(scores), current_max_score)  # update the max_score if this episode hit the new record\n",
    "        \n",
    "        \n",
    "        if i_episode % print_every == 0:\n",
    "            print('An average score (over 100 episodes) at episode #{:4d}: {:.4f}, max {:.4f}'\\\n",
    "                  .format(i_episode, np.mean(scores_window), current_max_score))  # over the last 100 expisodes, show the avg and current max\n",
    "         \n",
    "        if np.mean(scores_window) > 0.50:\n",
    "            print('An average (over 100 episodes) of score of +0.50 achieved at episode #{:4d}, {:.4f}'\\\n",
    "                  .format(i_episode, np.mean(scores_window)))\n",
    "            torch.save(agent.actor_local.state_dict(), 'checkpoint_actor.pth')\n",
    "            torch.save(agent.critic_local.state_dict(), 'checkpoint_critic.pth')  \n",
    "            break\n",
    "    \n",
    "    return scores_raw, scores_max, scores_window, mean_scores_window, agent"
   ]
  },
  {
   "cell_type": "code",
   "execution_count": 21,
   "metadata": {
    "scrolled": false
   },
   "outputs": [
    {
     "name": "stdout",
     "output_type": "stream",
     "text": [
      "An average score (over 100 episodes) at episode # 100: 0.0208, max 0.1000\n",
      "An average score (over 100 episodes) at episode # 200: 0.0185, max 0.1000\n",
      "An average score (over 100 episodes) at episode # 300: 0.0250, max 0.1000\n",
      "An average score (over 100 episodes) at episode # 400: 0.0212, max 0.1900\n",
      "An average score (over 100 episodes) at episode # 500: 0.0163, max 0.1900\n",
      "An average score (over 100 episodes) at episode # 600: 0.0105, max 0.1900\n",
      "An average score (over 100 episodes) at episode # 700: 0.0165, max 0.1900\n",
      "An average score (over 100 episodes) at episode # 800: 0.0195, max 0.1900\n",
      "An average score (over 100 episodes) at episode # 900: 0.0206, max 0.2000\n",
      "An average score (over 100 episodes) at episode #1000: 0.0185, max 0.2000\n",
      "An average score (over 100 episodes) at episode #1100: 0.0137, max 0.2000\n",
      "An average score (over 100 episodes) at episode #1200: 0.0163, max 0.2000\n",
      "An average score (over 100 episodes) at episode #1300: 0.0599, max 0.2000\n",
      "An average score (over 100 episodes) at episode #1400: 0.0711, max 0.3000\n",
      "An average score (over 100 episodes) at episode #1500: 0.0804, max 0.5000\n",
      "An average score (over 100 episodes) at episode #1600: 0.0763, max 0.5000\n",
      "An average score (over 100 episodes) at episode #1700: 0.0725, max 0.5000\n",
      "An average score (over 100 episodes) at episode #1800: 0.0708, max 0.5000\n",
      "An average score (over 100 episodes) at episode #1900: 0.0838, max 0.5000\n",
      "An average score (over 100 episodes) at episode #2000: 0.0906, max 0.5000\n",
      "An average score (over 100 episodes) at episode #2100: 0.0859, max 0.5000\n",
      "An average score (over 100 episodes) at episode #2200: 0.1048, max 0.5000\n",
      "An average score (over 100 episodes) at episode #2300: 0.1113, max 0.6000\n",
      "An average score (over 100 episodes) at episode #2400: 0.1137, max 0.6000\n",
      "An average score (over 100 episodes) at episode #2500: 0.1467, max 0.7000\n",
      "An average score (over 100 episodes) at episode #2600: 0.1281, max 0.7000\n",
      "An average score (over 100 episodes) at episode #2700: 0.1137, max 0.9000\n",
      "An average score (over 100 episodes) at episode #2800: 0.1354, max 0.9000\n",
      "An average score (over 100 episodes) at episode #2900: 0.1181, max 0.9000\n",
      "An average score (over 100 episodes) at episode #3000: 0.1142, max 0.9000\n",
      "An average score (over 100 episodes) at episode #3100: 0.1800, max 0.9000\n",
      "An average score (over 100 episodes) at episode #3200: 0.2013, max 0.9000\n",
      "An average score (over 100 episodes) at episode #3300: 0.2425, max 1.1000\n",
      "An average score (over 100 episodes) at episode #3400: 0.1618, max 1.1000\n",
      "An average score (over 100 episodes) at episode #3500: 0.2027, max 1.3000\n",
      "An average score (over 100 episodes) at episode #3600: 0.2786, max 1.6000\n",
      "An average score (over 100 episodes) at episode #3700: 0.2936, max 1.9000\n",
      "An average score (over 100 episodes) at episode #3800: 0.3417, max 1.9000\n",
      "An average score (over 100 episodes) at episode #3900: 0.3457, max 1.9000\n",
      "An average score (over 100 episodes) at episode #4000: 0.3779, max 2.4000\n",
      "An average score (over 100 episodes) at episode #4100: 0.2674, max 2.4000\n",
      "An average score (over 100 episodes) at episode #4200: 0.3626, max 2.4000\n",
      "An average score (over 100 episodes) at episode #4300: 0.4467, max 2.4000\n",
      "An average (over 100 episodes) of score of +0.50 achieved at episode #4338, 0.5069\n"
     ]
    }
   ],
   "source": [
    "agent = Agent(state_size=state_size, action_size=action_size, num_agents=num_agents, random_seed=1)\n",
    "\n",
    "with active_session():\n",
    "    scores_raw, scores_max, scores_window, mean_scores_window, agent = \\\n",
    "        ddpg(agent, n_episodes=10000, print_every=100)"
   ]
  },
  {
   "cell_type": "code",
   "execution_count": 23,
   "metadata": {},
   "outputs": [
    {
     "data": {
      "image/png": "[encoded data removed]",
      "text/plain": [
       "<matplotlib.figure.Figure at 0x7fc58ec6c048>"
      ]
     },
     "metadata": {
      "needs_background": "light"
     },
     "output_type": "display_data"
    }
   ],
   "source": [
    "# max scores per episode\n",
    "target_score = 0.5\n",
    "plt.figure(figsize=(16, 8))\n",
    "plt.axhline(y=target_score, color='r', linestyle='-')\n",
    "plt.plot(np.arange(1, len(scores_max)+1), scores_max, label='max scores per episode')\n",
    "plt.legend(loc='upper left')\n",
    "plt.ylabel('Score')\n",
    "plt.xlabel('Episode #')\n",
    "plt.show()"
   ]
  },
  {
   "cell_type": "code",
   "execution_count": 24,
   "metadata": {},
   "outputs": [
    {
     "data": {
      "image/png": "[encoded data removed]",
      "text/plain": [
       "<matplotlib.figure.Figure at 0x7fc58ec0d6d8>"
      ]
     },
     "metadata": {
      "needs_background": "light"
     },
     "output_type": "display_data"
    }
   ],
   "source": [
    "# last 100 episodes\n",
    "# episode 100 in the x-axis actually means the last episode\n",
    "# episode 99 in the x-axis actaully means the last-1 episode\n",
    "# episode 98 in the x-axis actaully means the last-2 episode\n",
    "# ...\n",
    "# episode 0 in the x-axis actaully means the last-100 episode\n",
    "target_score = 0.50\n",
    "plt.figure(figsize=(16, 8))\n",
    "plt.axhline(y=target_score, color='r', linestyle='-')\n",
    "plt.plot(np.arange(1, len(scores_window)+1), scores_window, label='max scores per episode')\n",
    "plt.legend(loc='upper left')\n",
    "plt.xlabel('Episode number')\n",
    "plt.ylabel('Score')\n",
    "plt.show()"
   ]
  },
  {
   "cell_type": "code",
   "execution_count": 25,
   "metadata": {},
   "outputs": [
    {
     "data": {
      "text/plain": [
       "0.50690000757575038"
      ]
     },
     "execution_count": 25,
     "metadata": {},
     "output_type": "execute_result"
    }
   ],
   "source": [
    "# confirm the average score (over 100 episodes) from np.mean(scores_window)\n",
    "np.mean(scores_window)"
   ]
  },
  {
   "cell_type": "code",
   "execution_count": 26,
   "metadata": {},
   "outputs": [
    {
     "data": {
      "text/plain": [
       "array([ 2.50000004,  2.60000004])"
      ]
     },
     "execution_count": 26,
     "metadata": {},
     "output_type": "execute_result"
    }
   ],
   "source": [
    "# The last scores\n",
    "scores_raw[-1]"
   ]
  },
  {
   "cell_type": "markdown",
   "metadata": {},
   "source": [
    "## Watch the trained agent"
   ]
  },
  {
   "cell_type": "code",
   "execution_count": 27,
   "metadata": {},
   "outputs": [],
   "source": [
    "# load the agent\n",
    "agent.actor_local.load_state_dict(torch.load('checkpoint_actor.pth'))\n",
    "agent.critic_local.load_state_dict(torch.load('checkpoint_critic.pth'))"
   ]
  },
  {
   "cell_type": "code",
   "execution_count": 34,
   "metadata": {},
   "outputs": [
    {
     "name": "stdout",
     "output_type": "stream",
     "text": [
      "Timestep 999\tScore: 2.65"
     ]
    }
   ],
   "source": [
    "while True :\n",
    "    actions = agent.act(states, add_noise=False)        # select an action\n",
    "    env_info = env.step(actions)[brain_name]            # send all actions to the environment\n",
    "    next_states = env_info.vector_observations          # get next state (for each agent)\n",
    "    rewards = env_info.rewards                          # get reward (for each agent)\n",
    "    dones = env_info.local_done                         # see if episode finished\n",
    "\n",
    "    scores += env_info.rewards                          # update the score (for each agent)\n",
    "    states = next_states                                # roll over states to next time step\n",
    "    \n",
    "    if t % 1 == 0:\n",
    "        print('\\rTimestep {}\\tScore: {:.2f}'.format(t, np.mean(scores)), end=\"\")\n",
    "\n",
    "    if np.any(dones):                                   \n",
    "        break"
   ]
  },
  {
   "cell_type": "code",
   "execution_count": 35,
   "metadata": {},
   "outputs": [
    {
     "data": {
      "text/plain": [
       "[True, True]"
      ]
     },
     "execution_count": 35,
     "metadata": {},
     "output_type": "execute_result"
    }
   ],
   "source": [
    "dones"
   ]
  },
  {
   "cell_type": "code",
   "execution_count": 36,
   "metadata": {},
   "outputs": [
    {
     "data": {
      "text/plain": [
       "array([ 2.70000004,  2.59000004])"
      ]
     },
     "execution_count": 36,
     "metadata": {},
     "output_type": "execute_result"
    }
   ],
   "source": [
    "scores"
   ]
  },
  {
   "cell_type": "markdown",
   "metadata": {},
   "source": [
    "When finished, you can close the environment."
   ]
  },
  {
   "cell_type": "code",
   "execution_count": 37,
   "metadata": {},
   "outputs": [],
   "source": [
    "env.close()"
   ]
  },
  {
   "cell_type": "code",
   "execution_count": null,
   "metadata": {},
   "outputs": [],
   "source": []
  }
 ],
 "metadata": {
  "kernelspec": {
   "display_name": "Python 3",
   "language": "python",
   "name": "python3"
  },
  "language_info": {
   "codemirror_mode": {
    "name": "ipython",
    "version": 3
   },
   "file_extension": ".py",
   "mimetype": "text/x-python",
   "name": "python",
   "nbconvert_exporter": "python",
   "pygments_lexer": "ipython3",
   "version": "3.6.3"
  }
 },
 "nbformat": 4,
 "nbformat_minor": 2
}
